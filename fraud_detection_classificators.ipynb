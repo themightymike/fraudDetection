{
 "cells": [
  {
   "cell_type": "code",
   "execution_count": 1,
   "id": "female-clock",
   "metadata": {
    "_cell_guid": "b1076dfc-b9ad-4769-8c92-a6c4dae69d19",
    "_uuid": "8f2839f25d086af736a60e9eeb907d3b93b6e0e5",
    "execution": {
     "iopub.execute_input": "2021-05-10T14:16:32.539751Z",
     "iopub.status.busy": "2021-05-10T14:16:32.538171Z",
     "iopub.status.idle": "2021-05-10T14:16:32.555015Z",
     "shell.execute_reply": "2021-05-10T14:16:32.555424Z"
    },
    "papermill": {
     "duration": 0.03822,
     "end_time": "2021-05-10T14:16:32.555655",
     "exception": false,
     "start_time": "2021-05-10T14:16:32.517435",
     "status": "completed"
    },
    "tags": []
   },
   "outputs": [
    {
     "name": "stdout",
     "output_type": "stream",
     "text": [
      "/kaggle/input/ieee-fraud-detection/sample_submission.csv\n",
      "/kaggle/input/ieee-fraud-detection/test_identity.csv\n",
      "/kaggle/input/ieee-fraud-detection/train_identity.csv\n",
      "/kaggle/input/ieee-fraud-detection/test_transaction.csv\n",
      "/kaggle/input/ieee-fraud-detection/train_transaction.csv\n",
      "/kaggle/input/fraud-test/x_testEt.csv\n",
      "/kaggle/input/frauddetectionetalon/y_train.csv\n",
      "/kaggle/input/frauddetectionetalon/x_train.csv\n"
     ]
    }
   ],
   "source": [
    "# This Python 3 environment comes with many helpful analytics libraries installed\n",
    "# It is defined by the kaggle/python Docker image: https://github.com/kaggle/docker-python\n",
    "# For example, here's several helpful packages to load\n",
    "\n",
    "import numpy as np # linear algebra\n",
    "import pandas as pd # data processing, CSV file I/O (e.g. pd.read_csv)\n",
    "\n",
    "# Input data files are available in the read-only \"../input/\" directory\n",
    "# For example, running this (by clicking run or pressing Shift+Enter) will list all files under the input directory\n",
    "\n",
    "import os\n",
    "for dirname, _, filenames in os.walk('/kaggle/input'):\n",
    "    for filename in filenames:\n",
    "        print(os.path.join(dirname, filename))\n",
    "\n",
    "# You can write up to 20GB to the current directory (/kaggle/working/) that gets preserved as output when you create a version using \"Save & Run All\" \n",
    "# You can also write temporary files to /kaggle/temp/, but they won't be saved outside of the current session"
   ]
  },
  {
   "cell_type": "code",
   "execution_count": 2,
   "id": "accurate-citation",
   "metadata": {
    "execution": {
     "iopub.execute_input": "2021-05-10T14:16:32.581446Z",
     "iopub.status.busy": "2021-05-10T14:16:32.580774Z",
     "iopub.status.idle": "2021-05-10T14:16:38.743954Z",
     "shell.execute_reply": "2021-05-10T14:16:38.743441Z"
    },
    "papermill": {
     "duration": 6.177938,
     "end_time": "2021-05-10T14:16:38.744095",
     "exception": false,
     "start_time": "2021-05-10T14:16:32.566157",
     "status": "completed"
    },
    "tags": []
   },
   "outputs": [],
   "source": [
    "#libraries & dependencies\n",
    "#import pandas as pd\n",
    "#import numpy as np\n",
    "#data normalizing\n",
    "from sklearn.preprocessing import LabelEncoder\n",
    "#imputation of missing values\n",
    "from sklearn.impute import SimpleImputer\n",
    "#visualization\n",
    "import seaborn as sns\n",
    "import matplotlib.pyplot as plt\n",
    "import os\n",
    "import time\n",
    "from tensorflow import keras\n",
    "from tensorflow.keras.layers import Dense\n",
    "from tensorflow.compat import v1 as tf_compat_v1\n",
    "from sklearn import preprocessing, metrics\n",
    "from sklearn.utils import shuffle\n",
    "from sklearn.model_selection import train_test_split, GridSearchCV\n",
    "from sklearn.neural_network import MLPClassifier\n",
    "import scikitplot as skplt\n",
    "from sklearn.preprocessing import StandardScaler"
   ]
  },
  {
   "cell_type": "code",
   "execution_count": 3,
   "id": "flexible-mongolia",
   "metadata": {
    "execution": {
     "iopub.execute_input": "2021-05-10T14:16:38.768701Z",
     "iopub.status.busy": "2021-05-10T14:16:38.768165Z",
     "iopub.status.idle": "2021-05-10T14:17:00.179172Z",
     "shell.execute_reply": "2021-05-10T14:17:00.178709Z"
    },
    "papermill": {
     "duration": 21.425263,
     "end_time": "2021-05-10T14:17:00.179299",
     "exception": false,
     "start_time": "2021-05-10T14:16:38.754036",
     "status": "completed"
    },
    "tags": []
   },
   "outputs": [],
   "source": [
    "x_train = pd.read_csv('/kaggle/input/frauddetectionetalon/x_train.csv')\n",
    "y_train = pd.read_csv('/kaggle/input/frauddetectionetalon/y_train.csv')\n"
   ]
  },
  {
   "cell_type": "code",
   "execution_count": 4,
   "id": "prescription-times",
   "metadata": {
    "execution": {
     "iopub.execute_input": "2021-05-10T14:17:00.204665Z",
     "iopub.status.busy": "2021-05-10T14:17:00.203974Z",
     "iopub.status.idle": "2021-05-10T14:17:16.393008Z",
     "shell.execute_reply": "2021-05-10T14:17:16.392077Z"
    },
    "papermill": {
     "duration": 16.203505,
     "end_time": "2021-05-10T14:17:16.393147",
     "exception": false,
     "start_time": "2021-05-10T14:17:00.189642",
     "status": "completed"
    },
    "tags": []
   },
   "outputs": [],
   "source": [
    "#print(x_train.head())\n",
    "#print(y_train.isFraud.sum())\n",
    "from imblearn.over_sampling import SMOTE\n",
    "\n",
    "x_train1, x_test, y_train1, y_test = train_test_split(x_train, y_train, test_size=0.3, stratify=y_train)\n",
    "ss = StandardScaler()\n",
    "x_train1 = ss.fit_transform(x_train1)\n",
    "x_test = ss.transform(x_test)\n",
    "syntheticData = SMOTE(k_neighbors=7)#parameters to be chosen in order to make balanced dataset(not equal)\n",
    "x_train12, y_train12 = syntheticData.fit_resample(x_train1, y_train1)"
   ]
  },
  {
   "cell_type": "code",
   "execution_count": 5,
   "id": "indian-filename",
   "metadata": {
    "execution": {
     "iopub.execute_input": "2021-05-10T14:17:16.420530Z",
     "iopub.status.busy": "2021-05-10T14:17:16.419879Z",
     "iopub.status.idle": "2021-05-10T14:17:16.423385Z",
     "shell.execute_reply": "2021-05-10T14:17:16.423845Z"
    },
    "papermill": {
     "duration": 0.020589,
     "end_time": "2021-05-10T14:17:16.424000",
     "exception": false,
     "start_time": "2021-05-10T14:17:16.403411",
     "status": "completed"
    },
    "tags": []
   },
   "outputs": [
    {
     "data": {
      "text/plain": [
       "(413378, 1)"
      ]
     },
     "execution_count": 5,
     "metadata": {},
     "output_type": "execute_result"
    }
   ],
   "source": [
    "y_train1.shape"
   ]
  },
  {
   "cell_type": "code",
   "execution_count": 6,
   "id": "pressed-password",
   "metadata": {
    "execution": {
     "iopub.execute_input": "2021-05-10T14:17:16.448842Z",
     "iopub.status.busy": "2021-05-10T14:17:16.448279Z",
     "iopub.status.idle": "2021-05-10T14:19:36.401249Z",
     "shell.execute_reply": "2021-05-10T14:19:36.401693Z"
    },
    "papermill": {
     "duration": 139.967672,
     "end_time": "2021-05-10T14:19:36.401847",
     "exception": false,
     "start_time": "2021-05-10T14:17:16.434175",
     "status": "completed"
    },
    "tags": []
   },
   "outputs": [
    {
     "name": "stderr",
     "output_type": "stream",
     "text": [
      "/opt/conda/lib/python3.7/site-packages/xgboost/sklearn.py:1146: UserWarning: The use of label encoder in XGBClassifier is deprecated and will be removed in a future release. To remove this warning, do the following: 1) Pass option use_label_encoder=False when constructing XGBClassifier object; and 2) Encode your labels (y) as integers starting with 0, i.e. 0, 1, 2, ..., [num_class - 1].\n",
      "  warnings.warn(label_encoder_deprecation_msg, UserWarning)\n",
      "/opt/conda/lib/python3.7/site-packages/sklearn/utils/validation.py:63: DataConversionWarning: A column-vector y was passed when a 1d array was expected. Please change the shape of y to (n_samples, ), for example using ravel().\n",
      "  return f(*args, **kwargs)\n"
     ]
    },
    {
     "data": {
      "text/plain": [
       "XGBClassifier(base_score=0.5, booster='gbtree', colsample_bylevel=1,\n",
       "              colsample_bynode=1, colsample_bytree=0.4, eval_metric='auc',\n",
       "              gamma=0, gpu_id=0, importance_type='gain',\n",
       "              interaction_constraints='', learning_rate=0.02, max_delta_step=0,\n",
       "              max_depth=12, min_child_weight=1, missing=-1,\n",
       "              monotone_constraints='()', n_estimators=2000, n_jobs=2,\n",
       "              num_parallel_tree=1, random_state=0, reg_alpha=0, reg_lambda=1,\n",
       "              scale_pos_weight=1, subsample=0.8, tree_method='gpu_hist',\n",
       "              validate_parameters=1, verbosity=None)"
      ]
     },
     "execution_count": 6,
     "metadata": {},
     "output_type": "execute_result"
    }
   ],
   "source": [
    "from xgboost import XGBClassifier\n",
    "\n",
    "\n",
    "clf = XGBClassifier(n_estimators=2000,\n",
    "        max_depth=12, \n",
    "        learning_rate=0.02, \n",
    "        subsample=0.8,\n",
    "        colsample_bytree=0.4, \n",
    "        missing=-1, \n",
    "        eval_metric='auc',\n",
    "        #nthread=4,\n",
    "        #tree_method='hist' \n",
    "        tree_method='gpu_hist')   \n",
    "\n",
    "\n",
    "\n",
    "clf.fit(x_train1, y_train1)\n"
   ]
  },
  {
   "cell_type": "code",
   "execution_count": 7,
   "id": "supreme-indiana",
   "metadata": {
    "execution": {
     "iopub.execute_input": "2021-05-10T14:19:36.430747Z",
     "iopub.status.busy": "2021-05-10T14:19:36.430244Z",
     "iopub.status.idle": "2021-05-10T14:19:53.921922Z",
     "shell.execute_reply": "2021-05-10T14:19:53.921015Z"
    },
    "papermill": {
     "duration": 17.50909,
     "end_time": "2021-05-10T14:19:53.922063",
     "exception": false,
     "start_time": "2021-05-10T14:19:36.412973",
     "status": "completed"
    },
    "tags": []
   },
   "outputs": [],
   "source": [
    "x_t = pd.read_csv('/kaggle/input/fraud-test/x_testEt.csv')"
   ]
  },
  {
   "cell_type": "code",
   "execution_count": 8,
   "id": "subject-evanescence",
   "metadata": {
    "execution": {
     "iopub.execute_input": "2021-05-10T14:19:53.953330Z",
     "iopub.status.busy": "2021-05-10T14:19:53.952194Z",
     "iopub.status.idle": "2021-05-10T14:19:54.806180Z",
     "shell.execute_reply": "2021-05-10T14:19:54.805732Z"
    },
    "papermill": {
     "duration": 0.872575,
     "end_time": "2021-05-10T14:19:54.806305",
     "exception": false,
     "start_time": "2021-05-10T14:19:53.933730",
     "status": "completed"
    },
    "tags": []
   },
   "outputs": [],
   "source": [
    "x_t = ss.transform(x_t)"
   ]
  },
  {
   "cell_type": "code",
   "execution_count": 9,
   "id": "liable-makeup",
   "metadata": {
    "execution": {
     "iopub.execute_input": "2021-05-10T14:19:54.835491Z",
     "iopub.status.busy": "2021-05-10T14:19:54.834991Z",
     "iopub.status.idle": "2021-05-10T14:20:53.512419Z",
     "shell.execute_reply": "2021-05-10T14:20:53.513089Z"
    },
    "papermill": {
     "duration": 58.695537,
     "end_time": "2021-05-10T14:20:53.513296",
     "exception": false,
     "start_time": "2021-05-10T14:19:54.817759",
     "status": "completed"
    },
    "tags": []
   },
   "outputs": [
    {
     "name": "stderr",
     "output_type": "stream",
     "text": [
      "/opt/conda/lib/python3.7/site-packages/xgboost/data.py:114: UserWarning: Use subset (sliced data) of np.ndarray is not recommended because it will generate extra copies and increase memory consumption\n",
      "  \"because it will generate extra copies and increase \" +\n"
     ]
    },
    {
     "name": "stdout",
     "output_type": "stream",
     "text": [
      "                isFraud\n",
      "TransactionID          \n",
      "3663549        0.000541\n",
      "3663550        0.000172\n",
      "3663551        0.000641\n",
      "3663552        0.000241\n",
      "3663553        0.000116\n",
      "...                 ...\n",
      "4170235        0.005206\n",
      "4170236        0.001189\n",
      "4170237        0.005116\n",
      "4170238        0.001119\n",
      "4170239        0.000203\n",
      "\n",
      "[506691 rows x 1 columns]\n"
     ]
    }
   ],
   "source": [
    "sample_submission = pd.read_csv('/kaggle/input/ieee-fraud-detection/sample_submission.csv', index_col='TransactionID')\n",
    "\n",
    "sample_submission['isFraud'] = clf.predict_proba(x_t)[:,1]\n",
    "sample_submission.to_csv('simple_xgboost.csv')\n",
    "print(sample_submission)"
   ]
  },
  {
   "cell_type": "code",
   "execution_count": 10,
   "id": "adopted-reputation",
   "metadata": {
    "execution": {
     "iopub.execute_input": "2021-05-10T14:20:53.548389Z",
     "iopub.status.busy": "2021-05-10T14:20:53.547498Z",
     "iopub.status.idle": "2021-05-10T14:20:53.561609Z",
     "shell.execute_reply": "2021-05-10T14:20:53.561176Z"
    },
    "papermill": {
     "duration": 0.034341,
     "end_time": "2021-05-10T14:20:53.561718",
     "exception": false,
     "start_time": "2021-05-10T14:20:53.527377",
     "status": "completed"
    },
    "tags": []
   },
   "outputs": [],
   "source": [
    "from sklearn.metrics import roc_curve, auc, roc_auc_score\n",
    "import itertools\n",
    "\n",
    "def define_metrics(y_test, y_predicted, y_predicted_proba):  \n",
    "    # точность(precision)\n",
    "    precision = metrics.precision_score(y_test, y_predicted)             \n",
    "    # Полнота (recall)\n",
    "    recall = metrics.recall_score(y_test, y_predicted) \n",
    "    # F-мера - среднее точности и полноты\n",
    "    f1 = metrics.f1_score(y_test, y_predicted)    \n",
    "    # Accuracy – доля правильных ответов алгоритма\n",
    "    accuracy = metrics.accuracy_score(y_test, y_predicted)\n",
    "    #Коэффициент корреляции Мэтьюза: +1 представляет идеальное предсказание, \n",
    "    # 0 - среднее случайное предсказание и -1 - обратное предсказание. \n",
    "    matthews_corrcoef = metrics.matthews_corrcoef(y_test, y_predicted)\n",
    "    #auc\n",
    "    false_positive_rate, true_positive_rate, thresholds = roc_curve(y_test, y_predicted)\n",
    "    roc_auc = auc(false_positive_rate, true_positive_rate)\n",
    "    \n",
    "    try:\n",
    "        #Функция правдоподобия отвечает на вопрос:«Насколько вероятным, по мнению модели,\n",
    "        #  был фактически наблюдаемый набор результатов»\n",
    "        log_loss = metrics.log_loss(y_test, y_predicted_proba)\n",
    "    except ValueError:\n",
    "        log_loss = '-'\n",
    "    \n",
    "    return ['Accuracy', 'Precision', 'Recall', 'F-score', 'MСС', 'ROC AUC', 'Log Loss'], \\\n",
    "           [accuracy,    precision,   recall,   f1,    matthews_corrcoef,    roc_auc, log_loss]\n",
    "\n",
    "def plot_confusion_matrix(cm, classes, normalize=False, title='Error matrix', cmap=plt.cm.winter):\n",
    "    if normalize:\n",
    "        cm = cm.astype('float') / cm.sum(axis=1)[:, np.newaxis]\n",
    "    for i, j in itertools.product(range(cm.shape[0]), range(cm.shape[1])):\n",
    "        if np.isnan(cm[i, j]):\n",
    "            cm[i, j] = 0.0\n",
    "    plt.imshow(cm, interpolation='nearest', cmap=cmap)\n",
    "    plt.title(title, fontsize=20)\n",
    "    #plt.colorbar()\n",
    "    tick_marks = np.arange(len(classes))\n",
    "    plt.xticks(tick_marks, classes, fontsize=12, rotation=45)\n",
    "    plt.yticks(tick_marks, classes, fontsize=12)\n",
    "    \n",
    "    fmt = '.2f' if normalize else 'd'\n",
    "    thresh = cm.max() / 2.\n",
    "\n",
    "    for i, j in itertools.product(range(cm.shape[0]), range(cm.shape[1])):\n",
    "        plt.text(j, i, format(cm[i, j], fmt), horizontalalignment=\"center\", \n",
    "                 color=\"white\" if cm[i, j] < thresh else \"black\", fontsize=14)\n",
    "    \n",
    "    plt.tight_layout()\n",
    "    plt.ylabel('True', fontsize=20)\n",
    "    plt.xlabel('Predicted', fontsize=20)\n",
    "\n",
    "    return plt\n",
    "\n",
    "def merge(y_predicted_proba, y_test):\n",
    "    norm_ind = list(label_encoder.transform(['Normal']))[0]\n",
    "    y_test_2 = [0 if x == norm_ind else 1 for x in y_test]\n",
    "    y_predicted_counts_2 = [[x[norm_ind], sum(x) - x[norm_ind]] for x in y_predicted_proba]\n",
    "    return y_predicted_counts_2, y_test_2\n",
    "\n",
    "def print_stats(y_predicted_counts_proba, y_test):\n",
    "    y_predicted_counts = np.array(y_predicted_counts_proba).argmax(axis=-1)\n",
    "    keys, vals = define_metrics(y_test, y_predicted_counts, y_predicted_counts_proba)\n",
    "    stats = pd.DataFrame([[round(x, 3) if not type(x) == str else x for x in vals]], columns=keys, index=['    '])\n",
    "    display(stats)\n",
    "    \n",
    "    fig_scale = 0.6\n",
    "    # В одной строке разместим 2 графика (график, табл)\n",
    "    fig, axs = plt.subplots(nrows=1, ncols=2, figsize=[int(fig_scale * x) for x in (16, 7)])\n",
    "    # ROC\n",
    "    _ = skplt.metrics.plot_roc(y_test, y_predicted_counts_proba, figsize=(int(14*0.7), int(10*0.7)), plot_micro=False, plot_macro=False, ax=axs[0])\n",
    "    \n",
    "    \n",
    "    cm = metrics.confusion_matrix(y_test, y_predicted_counts)\n",
    "    _ = plot_confusion_matrix(cm, ['Normal', 'Fraud'], normalize=True, title='Confusion matrix')\n",
    "    plt.show()\n",
    "    \n",
    "    return stats"
   ]
  },
  {
   "cell_type": "code",
   "execution_count": 11,
   "id": "understood-dividend",
   "metadata": {
    "execution": {
     "iopub.execute_input": "2021-05-10T14:20:53.593048Z",
     "iopub.status.busy": "2021-05-10T14:20:53.591908Z",
     "iopub.status.idle": "2021-05-10T14:21:36.089248Z",
     "shell.execute_reply": "2021-05-10T14:21:36.088373Z"
    },
    "papermill": {
     "duration": 42.515076,
     "end_time": "2021-05-10T14:21:36.089423",
     "exception": false,
     "start_time": "2021-05-10T14:20:53.574347",
     "status": "completed"
    },
    "tags": []
   },
   "outputs": [
    {
     "name": "stderr",
     "output_type": "stream",
     "text": [
      "/opt/conda/lib/python3.7/site-packages/xgboost/data.py:114: UserWarning: Use subset (sliced data) of np.ndarray is not recommended because it will generate extra copies and increase memory consumption\n",
      "  \"because it will generate extra copies and increase \" +\n"
     ]
    },
    {
     "name": "stdout",
     "output_type": "stream",
     "text": [
      "177162\n",
      "Roc Auc Score: 0.9698919844034632\n",
      "1\n"
     ]
    },
    {
     "data": {
      "text/html": [
       "<div>\n",
       "<style scoped>\n",
       "    .dataframe tbody tr th:only-of-type {\n",
       "        vertical-align: middle;\n",
       "    }\n",
       "\n",
       "    .dataframe tbody tr th {\n",
       "        vertical-align: top;\n",
       "    }\n",
       "\n",
       "    .dataframe thead th {\n",
       "        text-align: right;\n",
       "    }\n",
       "</style>\n",
       "<table border=\"1\" class=\"dataframe\">\n",
       "  <thead>\n",
       "    <tr style=\"text-align: right;\">\n",
       "      <th></th>\n",
       "      <th>Accuracy</th>\n",
       "      <th>Precision</th>\n",
       "      <th>Recall</th>\n",
       "      <th>F-score</th>\n",
       "      <th>MСС</th>\n",
       "      <th>ROC AUC</th>\n",
       "      <th>Log Loss</th>\n",
       "    </tr>\n",
       "  </thead>\n",
       "  <tbody>\n",
       "    <tr>\n",
       "      <th></th>\n",
       "      <td>0.986</td>\n",
       "      <td>0.954</td>\n",
       "      <td>0.619</td>\n",
       "      <td>0.751</td>\n",
       "      <td>0.762</td>\n",
       "      <td>0.809</td>\n",
       "      <td>0.05</td>\n",
       "    </tr>\n",
       "  </tbody>\n",
       "</table>\n",
       "</div>"
      ],
      "text/plain": [
       "      Accuracy  Precision  Recall  F-score    MСС  ROC AUC  Log Loss\n",
       "         0.986      0.954   0.619    0.751  0.762    0.809      0.05"
      ]
     },
     "metadata": {},
     "output_type": "display_data"
    },
    {
     "data": {
      "image/png": "[encoded data removed]",
      "text/plain": [
       "<Figure size 648x288 with 2 Axes>"
      ]
     },
     "metadata": {
      "needs_background": "light"
     },
     "output_type": "display_data"
    }
   ],
   "source": [
    "#XGBoostClassifier\n",
    "clfTestProba = clf.predict_proba(x_test)\n",
    "clfTestProba12 = clfTestProba.flatten()\n",
    "clfTestProba1 = []\n",
    "count = int(clfTestProba12.size)\n",
    "for i in range(1, count, 2):\n",
    "    clfTestProba1.append(clfTestProba12[i])\n",
    "print(len(clfTestProba1))\n",
    "clfTest = clf.predict(x_test)\n",
    "#clfTest = clf.predict(x_test)\n",
    "print(\"Roc Auc Score:\",roc_auc_score(y_test,clfTestProba1))\n",
    "print(clfTest.max())\n",
    "stat = list()\n",
    "stat.append([print_stats(clfTestProba, y_test)])"
   ]
  },
  {
   "cell_type": "code",
   "execution_count": 12,
   "id": "frequent-rebecca",
   "metadata": {
    "execution": {
     "iopub.execute_input": "2021-05-10T14:21:36.124215Z",
     "iopub.status.busy": "2021-05-10T14:21:36.123205Z",
     "iopub.status.idle": "2021-05-10T14:26:41.299518Z",
     "shell.execute_reply": "2021-05-10T14:26:41.300980Z"
    },
    "papermill": {
     "duration": 305.196976,
     "end_time": "2021-05-10T14:26:41.301358",
     "exception": false,
     "start_time": "2021-05-10T14:21:36.104382",
     "status": "completed"
    },
    "tags": []
   },
   "outputs": [
    {
     "name": "stderr",
     "output_type": "stream",
     "text": [
      "/opt/conda/lib/python3.7/site-packages/sklearn/utils/validation.py:63: DataConversionWarning: A column-vector y was passed when a 1d array was expected. Please change the shape of y to (n_samples, ), for example using ravel().\n",
      "  return f(*args, **kwargs)\n"
     ]
    },
    {
     "name": "stdout",
     "output_type": "stream",
     "text": [
      "Iteration 1, loss = 0.12135153\n",
      "Validation score: 0.971310\n",
      "Iteration 2, loss = 0.10223409\n",
      "Validation score: 0.972979\n",
      "Iteration 3, loss = 0.09554428\n",
      "Validation score: 0.973850\n",
      "Iteration 4, loss = 0.08999528\n",
      "Validation score: 0.974358\n",
      "Iteration 5, loss = 0.08521821\n",
      "Validation score: 0.975229\n",
      "Iteration 6, loss = 0.08100234\n",
      "Validation score: 0.975471\n",
      "Iteration 7, loss = 0.07777291\n",
      "Validation score: 0.975882\n",
      "Iteration 8, loss = 0.07466841\n",
      "Validation score: 0.976414\n",
      "Iteration 9, loss = 0.07188811\n",
      "Validation score: 0.977236\n",
      "Iteration 10, loss = 0.06962883\n",
      "Validation score: 0.976922\n",
      "Iteration 11, loss = 0.06745093\n",
      "Validation score: 0.977067\n",
      "Iteration 12, loss = 0.06567069\n",
      "Validation score: 0.977212\n",
      "Iteration 13, loss = 0.06378739\n",
      "Validation score: 0.977575\n",
      "Iteration 14, loss = 0.06232159\n",
      "Validation score: 0.976777\n",
      "Iteration 15, loss = 0.06092768\n",
      "Validation score: 0.977357\n",
      "Iteration 16, loss = 0.05959806\n",
      "Validation score: 0.977744\n",
      "Iteration 17, loss = 0.05851181\n",
      "Validation score: 0.977890\n",
      "Iteration 18, loss = 0.05747734\n",
      "Validation score: 0.977503\n",
      "Iteration 19, loss = 0.05628525\n",
      "Validation score: 0.977140\n",
      "Iteration 20, loss = 0.05533390\n",
      "Validation score: 0.977648\n",
      "Iteration 21, loss = 0.05440975\n",
      "Validation score: 0.977623\n",
      "Iteration 22, loss = 0.05365640\n",
      "Validation score: 0.977067\n",
      "Iteration 23, loss = 0.05270853\n",
      "Validation score: 0.977817\n",
      "Iteration 24, loss = 0.05204608\n",
      "Validation score: 0.977890\n",
      "Iteration 25, loss = 0.05118287\n",
      "Validation score: 0.977672\n",
      "Iteration 26, loss = 0.05032794\n",
      "Validation score: 0.977575\n",
      "Iteration 27, loss = 0.04980234\n",
      "Validation score: 0.976680\n",
      "Iteration 28, loss = 0.04914103\n",
      "Validation score: 0.977962\n",
      "Validation score did not improve more than tol=0.000100 for 10 consecutive epochs. Stopping.\n"
     ]
    }
   ],
   "source": [
    "mlp = MLPClassifier(hidden_layer_sizes=(200,), activation='tanh',solver='adam',learning_rate='adaptive', max_iter=100, early_stopping=True, verbose=True)\n",
    "clfPercep= mlp.fit(x_train1, y_train1)"
   ]
  },
  {
   "cell_type": "code",
   "execution_count": 13,
   "id": "accredited-thought",
   "metadata": {
    "execution": {
     "iopub.execute_input": "2021-05-10T14:26:41.423616Z",
     "iopub.status.busy": "2021-05-10T14:26:41.422405Z",
     "iopub.status.idle": "2021-05-10T14:26:45.863541Z",
     "shell.execute_reply": "2021-05-10T14:26:45.863991Z"
    },
    "papermill": {
     "duration": 4.507481,
     "end_time": "2021-05-10T14:26:45.864137",
     "exception": false,
     "start_time": "2021-05-10T14:26:41.356656",
     "status": "completed"
    },
    "tags": []
   },
   "outputs": [
    {
     "name": "stdout",
     "output_type": "stream",
     "text": [
      "[0.99856549 0.00143451]\n",
      "Roc Auc Score: 0.9057205876359439\n"
     ]
    },
    {
     "data": {
      "text/html": [
       "<div>\n",
       "<style scoped>\n",
       "    .dataframe tbody tr th:only-of-type {\n",
       "        vertical-align: middle;\n",
       "    }\n",
       "\n",
       "    .dataframe tbody tr th {\n",
       "        vertical-align: top;\n",
       "    }\n",
       "\n",
       "    .dataframe thead th {\n",
       "        text-align: right;\n",
       "    }\n",
       "</style>\n",
       "<table border=\"1\" class=\"dataframe\">\n",
       "  <thead>\n",
       "    <tr style=\"text-align: right;\">\n",
       "      <th></th>\n",
       "      <th>Accuracy</th>\n",
       "      <th>Precision</th>\n",
       "      <th>Recall</th>\n",
       "      <th>F-score</th>\n",
       "      <th>MСС</th>\n",
       "      <th>ROC AUC</th>\n",
       "      <th>Log Loss</th>\n",
       "    </tr>\n",
       "  </thead>\n",
       "  <tbody>\n",
       "    <tr>\n",
       "      <th></th>\n",
       "      <td>0.977</td>\n",
       "      <td>0.761</td>\n",
       "      <td>0.504</td>\n",
       "      <td>0.607</td>\n",
       "      <td>0.609</td>\n",
       "      <td>0.749</td>\n",
       "      <td>0.094</td>\n",
       "    </tr>\n",
       "  </tbody>\n",
       "</table>\n",
       "</div>"
      ],
      "text/plain": [
       "      Accuracy  Precision  Recall  F-score    MСС  ROC AUC  Log Loss\n",
       "         0.977      0.761   0.504    0.607  0.609    0.749     0.094"
      ]
     },
     "metadata": {},
     "output_type": "display_data"
    },
    {
     "data": {
      "image/png": "[encoded data removed]",
      "text/plain": [
       "<Figure size 648x288 with 2 Axes>"
      ]
     },
     "metadata": {
      "needs_background": "light"
     },
     "output_type": "display_data"
    }
   ],
   "source": [
    "clfTestPercepProba = clfPercep.predict_proba(x_test)\n",
    "clfTestPercepPredict = clfPercep.predict(x_test)\n",
    "clfTestPercepProba12 = clfTestPercepProba.flatten()\n",
    "clfTestPercepProba1 = []\n",
    "count = int(clfTestPercepProba12.size)\n",
    "for i in range(1, count, 2):\n",
    "    clfTestPercepProba1.append(clfTestPercepProba12[i])\n",
    "print(clfTestPercepProba[0])\n",
    "#print(clfTestPercep.max())\n",
    "print(\"Roc Auc Score:\",roc_auc_score(y_test,clfTestPercepProba1))\n",
    "stat1 = list()\n",
    "stat1.append([print_stats(clfTestPercepProba, y_test)])"
   ]
  },
  {
   "cell_type": "code",
   "execution_count": 14,
   "id": "tracked-testament",
   "metadata": {
    "execution": {
     "iopub.execute_input": "2021-05-10T14:26:45.933234Z",
     "iopub.status.busy": "2021-05-10T14:26:45.932194Z",
     "iopub.status.idle": "2021-05-10T14:43:53.321540Z",
     "shell.execute_reply": "2021-05-10T14:43:53.321980Z"
    },
    "papermill": {
     "duration": 1027.425742,
     "end_time": "2021-05-10T14:43:53.322144",
     "exception": false,
     "start_time": "2021-05-10T14:26:45.896402",
     "status": "completed"
    },
    "tags": []
   },
   "outputs": [
    {
     "name": "stderr",
     "output_type": "stream",
     "text": [
      "/opt/conda/lib/python3.7/site-packages/ipykernel_launcher.py:3: DataConversionWarning: A column-vector y was passed when a 1d array was expected. Please change the shape of y to (n_samples,), for example using ravel().\n",
      "  This is separate from the ipykernel package so we can avoid doing imports until\n"
     ]
    },
    {
     "data": {
      "text/plain": [
       "RandomForestClassifier(max_depth=45, max_features=30, min_samples_leaf=200,\n",
       "                       n_estimators=500, n_jobs=-1)"
      ]
     },
     "execution_count": 14,
     "metadata": {},
     "output_type": "execute_result"
    }
   ],
   "source": [
    "from sklearn.ensemble import RandomForestClassifier\n",
    "clfForest = RandomForestClassifier(max_depth=45,max_features=30,n_estimators=500, n_jobs=-1, min_samples_leaf=200)\n",
    "clfForest.fit(x_train1, y_train1)"
   ]
  },
  {
   "cell_type": "code",
   "execution_count": 15,
   "id": "unlimited-visitor",
   "metadata": {
    "execution": {
     "iopub.execute_input": "2021-05-10T14:43:53.392554Z",
     "iopub.status.busy": "2021-05-10T14:43:53.391699Z",
     "iopub.status.idle": "2021-05-10T14:44:24.446070Z",
     "shell.execute_reply": "2021-05-10T14:44:24.445655Z"
    },
    "papermill": {
     "duration": 31.09205,
     "end_time": "2021-05-10T14:44:24.446186",
     "exception": false,
     "start_time": "2021-05-10T14:43:53.354136",
     "status": "completed"
    },
    "tags": []
   },
   "outputs": [
    {
     "name": "stdout",
     "output_type": "stream",
     "text": [
      "[0.99194837 0.00805163]\n",
      "Roc Auc Score: 0.8988687802315222\n"
     ]
    },
    {
     "data": {
      "text/html": [
       "<div>\n",
       "<style scoped>\n",
       "    .dataframe tbody tr th:only-of-type {\n",
       "        vertical-align: middle;\n",
       "    }\n",
       "\n",
       "    .dataframe tbody tr th {\n",
       "        vertical-align: top;\n",
       "    }\n",
       "\n",
       "    .dataframe thead th {\n",
       "        text-align: right;\n",
       "    }\n",
       "</style>\n",
       "<table border=\"1\" class=\"dataframe\">\n",
       "  <thead>\n",
       "    <tr style=\"text-align: right;\">\n",
       "      <th></th>\n",
       "      <th>Accuracy</th>\n",
       "      <th>Precision</th>\n",
       "      <th>Recall</th>\n",
       "      <th>F-score</th>\n",
       "      <th>MСС</th>\n",
       "      <th>ROC AUC</th>\n",
       "      <th>Log Loss</th>\n",
       "    </tr>\n",
       "  </thead>\n",
       "  <tbody>\n",
       "    <tr>\n",
       "      <th></th>\n",
       "      <td>0.972</td>\n",
       "      <td>0.883</td>\n",
       "      <td>0.215</td>\n",
       "      <td>0.345</td>\n",
       "      <td>0.427</td>\n",
       "      <td>0.607</td>\n",
       "      <td>0.097</td>\n",
       "    </tr>\n",
       "  </tbody>\n",
       "</table>\n",
       "</div>"
      ],
      "text/plain": [
       "      Accuracy  Precision  Recall  F-score    MСС  ROC AUC  Log Loss\n",
       "         0.972      0.883   0.215    0.345  0.427    0.607     0.097"
      ]
     },
     "metadata": {},
     "output_type": "display_data"
    },
    {
     "data": {
      "image/png": "[encoded data removed]",
      "text/plain": [
       "<Figure size 648x288 with 2 Axes>"
      ]
     },
     "metadata": {
      "needs_background": "light"
     },
     "output_type": "display_data"
    }
   ],
   "source": [
    "clfTestForestProba = clfForest.predict_proba(x_test)\n",
    "clfTestForestPredict = clfForest.predict(x_test)\n",
    "clfTestForestProba12 = clfTestForestProba.flatten()\n",
    "clfTestForestProba1 = []\n",
    "count = int(clfTestForestProba12.size)\n",
    "for i in range(1, count, 2):\n",
    "    clfTestForestProba1.append(clfTestForestProba12[i])\n",
    "print(clfTestForestProba[0])\n",
    "#print(clfTestPercep.max())\n",
    "print(\"Roc Auc Score:\",roc_auc_score(y_test,clfTestForestProba1))\n",
    "stat1 = list()\n",
    "stat1.append([print_stats(clfTestForestProba, y_test)])"
   ]
  }
 ],
 "metadata": {
  "kernelspec": {
   "display_name": "Python 3",
   "language": "python",
   "name": "python3"
  },
  "language_info": {
   "codemirror_mode": {
    "name": "ipython",
    "version": 3
   },
   "file_extension": ".py",
   "mimetype": "text/x-python",
   "name": "python",
   "nbconvert_exporter": "python",
   "pygments_lexer": "ipython3",
   "version": "3.8.0"
  },
  "papermill": {
   "default_parameters": {},
   "duration": 1681.386666,
   "end_time": "2021-05-10T14:44:27.205444",
   "environment_variables": {},
   "exception": null,
   "input_path": "__notebook__.ipynb",
   "output_path": "__notebook__.ipynb",
   "parameters": {},
   "start_time": "2021-05-10T14:16:25.818778",
   "version": "2.3.3"
  }
 },
 "nbformat": 4,
 "nbformat_minor": 5
}
